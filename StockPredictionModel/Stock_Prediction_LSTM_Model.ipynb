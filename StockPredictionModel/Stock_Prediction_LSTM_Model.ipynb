{
 "cells": [
  {
   "cell_type": "code",
   "execution_count": null,
   "id": "eee4fca2-1ff9-4625-a735-180a5bbe2b9e",
   "metadata": {},
   "outputs": [],
   "source": [
    "import yfinance as yf\n",
    "import pandas as pd \n",
    "import numpy as np  \n",
    "from sklearn.metrics import mean_squared_error  \n",
    "from sklearn.preprocessing import MinMaxScaler \n",
    "from tensorflow.keras.models import Sequential, load_model\n",
    "from tensorflow.keras.layers import LSTM, Dense, Dropout  \n",
    "from tensorflow.keras.callbacks import EarlyStopping #prevent overfitting (when model stops improving stop training)\n",
    "import plotly.graph_objs as go \n",
    "from tensorflow.keras import Input \n",
    "from datetime import datetime, timedelta\n",
    "\n",
    "\n"
   ]
  },
  {
   "cell_type": "code",
   "execution_count": null,
   "id": "ce28a768-8bd6-4c9c-bc8b-0be27358ba4b",
   "metadata": {
    "scrolled": true
   },
   "outputs": [],
   "source": [
    "print(\"Enter Ticker Name for Stock: \") \n",
    "x = input() \n",
    "print(\"Enter Start Date (YYYY-MM-DD): \")  \n",
    "startDate = input() \n",
    "print(\"Enter End Date (YYYY-MM-DD): \")  \n",
    "endDate = input()\n",
    "stock_data = yf.download(x, start = startDate, end = endDate) "
   ]
  },
  {
   "cell_type": "code",
   "execution_count": null,
   "id": "67dac58a-dc50-46d1-8e5e-5ee1da6b2842",
   "metadata": {},
   "outputs": [],
   "source": [
    "close_prices = stock_data['Close'].values #price prediction data, gets closing data"
   ]
  },
  {
   "cell_type": "code",
   "execution_count": null,
   "id": "e0647a1a-9ae9-49e7-845f-f951c5f77dc1",
   "metadata": {},
   "outputs": [],
   "source": [
    "scaler = MinMaxScaler(feature_range=(0,1)) ## Initializes a scaler to scale values between 0 and 1 with a standard deviation of 1\n",
    "scaled_data = scaler.fit_transform(close_prices.reshape(-1, 1)) "
   ]
  },
  {
   "cell_type": "code",
   "execution_count": null,
   "id": "c0b95963-8796-4cad-beab-2ebb404fa5de",
   "metadata": {},
   "outputs": [],
   "source": [
    "train_size = int(len(scaled_data) * 0.8) #calculates number of data points used in training set (80%) \n",
    "train_data, test_data = scaled_data[:train_size], scaled_data[train_size:]  "
   ]
  },
  {
   "cell_type": "code",
   "execution_count": null,
   "id": "e04dd989-80e0-44dd-ae5e-73b50d02d0ef",
   "metadata": {},
   "outputs": [],
   "source": [
    "def create_sequences(data, seq_length): \n",
    "    x,y = [],[] \n",
    "    for i in range (seq_length, len(data)):  \n",
    "        x.append(data[i-seq_length:i, 0]) \n",
    "        y.append(data[i, 0]) \n",
    "    return np.array(x), np.array(y) "
   ]
  },
  {
   "cell_type": "code",
   "execution_count": null,
   "id": "bb84983d-5451-4e49-b8a9-5a2eba03af48",
   "metadata": {},
   "outputs": [],
   "source": [
    "seq_length = 100  \n",
    "x_train, y_train = create_sequences(train_data, seq_length)\n",
    "x_test, y_test = create_sequences(test_data, seq_length)\n"
   ]
  },
  {
   "cell_type": "code",
   "execution_count": null,
   "id": "c7e0a8a5-19ec-4601-9bd6-da18fa5b609d",
   "metadata": {},
   "outputs": [],
   "source": [
    "x_train = np.reshape(x_train, (x_train.shape[0], x_train.shape[1], 1))\n",
    "x_test = np.reshape(x_test, (x_test.shape[0], x_test.shape[1], 1))"
   ]
  },
  {
   "cell_type": "code",
   "execution_count": null,
   "id": "42cef331-83a8-4cc6-8843-81629bd2adb6",
   "metadata": {},
   "outputs": [],
   "source": [
    "model = Sequential([\n",
    "    Input(shape=(x_train.shape[1], 1)),  # Input shape for LSTM\n",
    "    LSTM(units=100, return_sequences=True),  # First LSTM layer\n",
    "    Dropout(0.2),  # Dropout for regularization\n",
    "    LSTM(units=100, return_sequences=False),  # Second LSTM layer\n",
    "    Dropout(0.2),  # Dropout for regularization\n",
    "    Dense(units=1)  # Output layer\n",
    "])\n",
    "\n",
    "model.save('stock_predictor_model.keras')\n",
    "\n",
    "model.compile(optimizer='adam', loss='mean_squared_error')"
   ]
  },
  {
   "cell_type": "markdown",
   "id": "601d8bfd-54b9-4610-8ede-f6b262d227f3",
   "metadata": {},
   "source": [
    "Early Stoppage "
   ]
  },
  {
   "cell_type": "code",
   "execution_count": null,
   "id": "3dc08e38-c4d2-4c0f-ae7f-e2f31a1801f6",
   "metadata": {},
   "outputs": [],
   "source": [
    "# Define Early Stopping\n",
    "early_stopping = EarlyStopping(\n",
    "    monitor='val_loss',         \n",
    "    patience=5,                 \n",
    "    restore_best_weights=True   \n",
    ") \n"
   ]
  },
  {
   "cell_type": "code",
   "execution_count": null,
   "id": "ad09914d-a516-4cd7-9904-9c7c77256f98",
   "metadata": {},
   "outputs": [],
   "source": [
    "history = model.fit(\n",
    "    x_train, y_train,\n",
    "    validation_split=0.2,  \n",
    "    epochs=100, #epoch = 1 complete pass through training dataset            \n",
    "    batch_size=32,        \n",
    "    callbacks=[early_stopping]\n",
    ")"
   ]
  },
  {
   "cell_type": "code",
   "execution_count": null,
   "id": "8f27a380-8fc3-476d-bb78-41a94fa434c2",
   "metadata": {},
   "outputs": [],
   "source": [
    "predictions = model.predict(x_test)\n",
    "\n",
    "predictions = scaler.inverse_transform(predictions)\n",
    "\n",
    "y_test_scaled = scaler.inverse_transform(y_test.reshape(-1, 1))"
   ]
  },
  {
   "cell_type": "code",
   "execution_count": null,
   "id": "73451f89-5be6-4e68-b6fd-cb3fddd71c33",
   "metadata": {
    "scrolled": true
   },
   "outputs": [],
   "source": [
    "fig = go.Figure()\n",
    "fig.add_trace(go.Scatter(x=stock_data.index[-len(y_test):], y=y_test_scaled.flatten(), mode='lines', name='Actual Price'))\n",
    "fig.add_trace(go.Scatter(x=stock_data.index[-len(y_test):], y=predictions.flatten(), mode='lines', name='Predicted Price'))\n",
    "fig.update_layout(title=x + ' Stock Price Prediction', xaxis_title='Date', yaxis_title='Stock Price (USD)')\n",
    "fig.show()"
   ]
  },
  {
   "cell_type": "markdown",
   "id": "639a392d-5900-41c2-8e01-186803fe437b",
   "metadata": {},
   "source": [
    "GET MSE and RMSE"
   ]
  },
  {
   "cell_type": "code",
   "execution_count": null,
   "id": "52dc8774-1d18-4862-b846-fcd8d2708c36",
   "metadata": {},
   "outputs": [],
   "source": [
    "# Calculate MSE and RMSE\n",
    "mse = mean_squared_error(y_test_scaled, predictions)\n",
    "rmse = np.sqrt(mse)\n",
    "\n",
    "print(f'Mean Squared Error: {mse}')\n",
    "print(f'Root Mean Squared Error: {rmse}')"
   ]
  },
  {
   "cell_type": "markdown",
   "id": "dcfb934f-13af-4e7c-aff9-574f0cdd0a54",
   "metadata": {},
   "source": [
    "Calculate range to determine RMSE performance"
   ]
  },
  {
   "cell_type": "code",
   "execution_count": null,
   "id": "97c2e88e-b94d-4d88-8781-aff7a0a81e2a",
   "metadata": {},
   "outputs": [],
   "source": [
    "min_value_range = np.min(close_prices)\n",
    "max_value_range = np.max(close_prices)\n",
    "range_value = max_value_range - min_value_range \n",
    "\n",
    "mean_close_price = np.mean(close_prices)\n",
    "rmse_percentage = (rmse / mean_close_price) * 100\n",
    "print(f\"RMSE as % of Mean: {rmse_percentage}%\")\n"
   ]
  },
  {
   "cell_type": "markdown",
   "id": "16692724-139f-499e-b15c-3b5c6e3ebbf4",
   "metadata": {},
   "source": [
    "Get next day future stock price based on previous 100 days of trading info "
   ]
  },
  {
   "cell_type": "code",
   "execution_count": null,
   "id": "1b1ed102-8dd5-4850-932b-4fb464fd550a",
   "metadata": {},
   "outputs": [],
   "source": [
    "new_end_date = datetime.today()\n",
    "new_start_date = new_end_date - timedelta(days=100) \n",
    "\n",
    "new_end_date_str = new_end_date.strftime('%Y-%m-%d')\n",
    "new_start_date_str = new_start_date.strftime('%Y-%m-%d')\n",
    "\n",
    "stock_data_new = yf.download(x, start = new_start_date , end = new_end_date) \n"
   ]
  },
  {
   "cell_type": "code",
   "execution_count": null,
   "id": "ef1dd592-093c-46de-a4b7-52e0be8b031c",
   "metadata": {},
   "outputs": [],
   "source": [
    "close_prices_new = stock_data_new['Close'].values.reshape(-1,1) \n",
    "\n",
    "scaled_data_new = scaler.fit_transform(close_prices_new)"
   ]
  },
  {
   "cell_type": "code",
   "execution_count": null,
   "id": "9ea32347-9c57-4581-9b04-f12ef65d3614",
   "metadata": {},
   "outputs": [],
   "source": [
    "new_model = load_model('stock_predictor_model.keras')  \n"
   ]
  },
  {
   "cell_type": "code",
   "execution_count": null,
   "id": "d3581fcc-8535-4b96-9ede-74802e99f72c",
   "metadata": {},
   "outputs": [],
   "source": [
    "last_100_days_new = scaled_data_new[-100:]  \n",
    "last_100_days_new = np.reshape(last_100_days_new, (1, last_100_days_new.shape[0], 1))\n"
   ]
  },
  {
   "cell_type": "code",
   "execution_count": null,
   "id": "ba45ba13-caf0-4d3a-b082-6371961dd78a",
   "metadata": {},
   "outputs": [],
   "source": [
    "predicted_price_new = model.predict(last_100_days_new)\n",
    "\n",
    "predicted_price_new_actual = scaler.inverse_transform(predicted_price_new)  \n",
    "\n",
    "y_test_scaled_new = scaler.inverse_transform(y_test.reshape(-1, 1))\n",
    "\n",
    "\n",
    "print(f\"Predicted next day's price: {predicted_price_new_actual[0][0]:.2f}\")\n"
   ]
  },
  {
   "cell_type": "code",
   "execution_count": null,
   "id": "1f0f54eb-2463-4d8d-b58a-d306f5f3a614",
   "metadata": {},
   "outputs": [],
   "source": []
  }
 ],
 "metadata": {
  "kernelspec": {
   "display_name": "Python [conda env:base] *",
   "language": "python",
   "name": "conda-base-py"
  },
  "language_info": {
   "codemirror_mode": {
    "name": "ipython",
    "version": 3
   },
   "file_extension": ".py",
   "mimetype": "text/x-python",
   "name": "python",
   "nbconvert_exporter": "python",
   "pygments_lexer": "ipython3",
   "version": "3.11.7"
  }
 },
 "nbformat": 4,
 "nbformat_minor": 5
}
